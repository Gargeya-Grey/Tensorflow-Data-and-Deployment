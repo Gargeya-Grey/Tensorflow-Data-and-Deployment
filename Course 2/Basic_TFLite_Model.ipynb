{
  "nbformat": 4,
  "nbformat_minor": 0,
  "metadata": {
    "colab": {
      "name": "Basic TFLite Model.ipynb",
      "provenance": []
    },
    "kernelspec": {
      "name": "python3",
      "display_name": "Python 3"
    },
    "accelerator": "GPU"
  },
  "cells": [
    {
      "cell_type": "markdown",
      "metadata": {
        "id": "xUfVAL34HOzN"
      },
      "source": [
        "# The Most Basic NN used for creating a TFLite Model"
      ]
    },
    {
      "cell_type": "markdown",
      "metadata": {
        "id": "PXQzDB7VHhaU"
      },
      "source": [
        "### Importing Libraries"
      ]
    },
    {
      "cell_type": "code",
      "metadata": {
        "id": "4RH7zPmrHEfW"
      },
      "source": [
        "import numpy as np\r\n",
        "import matplotlib.pyplot as plt\r\n",
        "import tensorflow as tf\r\n",
        "\r\n",
        "import pathlib\r\n",
        "from google.colab import files\r\n",
        "\r\n",
        "%matplotlib inline"
      ],
      "execution_count": 1,
      "outputs": []
    },
    {
      "cell_type": "markdown",
      "metadata": {
        "id": "chPSdDVHH5Ce"
      },
      "source": [
        "**Basic Model of y=mx+c**"
      ]
    },
    {
      "cell_type": "code",
      "metadata": {
        "colab": {
          "base_uri": "https://localhost:8080/"
        },
        "id": "KlZ2-AHqH1cU",
        "outputId": "7f29ac0b-7fe7-44ad-c9fa-6f43d48a4fe4"
      },
      "source": [
        "xs = [-1, 0, 1, 2, 3, 4]\r\n",
        "ys = [-3, -1, 1, 3, 5, 7]\r\n",
        "model = tf.keras.models.Sequential([\r\n",
        "                                    tf.keras.layers.Dense(1, input_shape=[1])\r\n",
        "])\r\n",
        "model.compile(loss='mse', optimizer='sgd')\r\n",
        "model.fit(xs,ys,epochs=200)"
      ],
      "execution_count": 2,
      "outputs": [
        {
          "output_type": "stream",
          "text": [
            "Epoch 1/200\n",
            "1/1 [==============================] - 2s 2s/step - loss: 59.1361\n",
            "Epoch 2/200\n",
            "1/1 [==============================] - 0s 3ms/step - loss: 46.9535\n",
            "Epoch 3/200\n",
            "1/1 [==============================] - 0s 4ms/step - loss: 37.3600\n",
            "Epoch 4/200\n",
            "1/1 [==============================] - 0s 4ms/step - loss: 29.8037\n",
            "Epoch 5/200\n",
            "1/1 [==============================] - 0s 4ms/step - loss: 23.8503\n",
            "Epoch 6/200\n",
            "1/1 [==============================] - 0s 3ms/step - loss: 19.1582\n",
            "Epoch 7/200\n",
            "1/1 [==============================] - 0s 3ms/step - loss: 15.4586\n",
            "Epoch 8/200\n",
            "1/1 [==============================] - 0s 3ms/step - loss: 12.5400\n",
            "Epoch 9/200\n",
            "1/1 [==============================] - 0s 3ms/step - loss: 10.2360\n",
            "Epoch 10/200\n",
            "1/1 [==============================] - 0s 3ms/step - loss: 8.4158\n",
            "Epoch 11/200\n",
            "1/1 [==============================] - 0s 4ms/step - loss: 6.9762\n",
            "Epoch 12/200\n",
            "1/1 [==============================] - 0s 6ms/step - loss: 5.8364\n",
            "Epoch 13/200\n",
            "1/1 [==============================] - 0s 4ms/step - loss: 4.9325\n",
            "Epoch 14/200\n",
            "1/1 [==============================] - 0s 4ms/step - loss: 4.2143\n",
            "Epoch 15/200\n",
            "1/1 [==============================] - 0s 6ms/step - loss: 3.6424\n",
            "Epoch 16/200\n",
            "1/1 [==============================] - 0s 6ms/step - loss: 3.1858\n",
            "Epoch 17/200\n",
            "1/1 [==============================] - 0s 3ms/step - loss: 2.8200\n",
            "Epoch 18/200\n",
            "1/1 [==============================] - 0s 7ms/step - loss: 2.5257\n",
            "Epoch 19/200\n",
            "1/1 [==============================] - 0s 6ms/step - loss: 2.2879\n",
            "Epoch 20/200\n",
            "1/1 [==============================] - 0s 4ms/step - loss: 2.0946\n",
            "Epoch 21/200\n",
            "1/1 [==============================] - 0s 3ms/step - loss: 1.9365\n",
            "Epoch 22/200\n",
            "1/1 [==============================] - 0s 4ms/step - loss: 1.8062\n",
            "Epoch 23/200\n",
            "1/1 [==============================] - 0s 6ms/step - loss: 1.6978\n",
            "Epoch 24/200\n",
            "1/1 [==============================] - 0s 3ms/step - loss: 1.6069\n",
            "Epoch 25/200\n",
            "1/1 [==============================] - 0s 3ms/step - loss: 1.5298\n",
            "Epoch 26/200\n",
            "1/1 [==============================] - 0s 3ms/step - loss: 1.4637\n",
            "Epoch 27/200\n",
            "1/1 [==============================] - 0s 3ms/step - loss: 1.4063\n",
            "Epoch 28/200\n",
            "1/1 [==============================] - 0s 4ms/step - loss: 1.3560\n",
            "Epoch 29/200\n",
            "1/1 [==============================] - 0s 5ms/step - loss: 1.3112\n",
            "Epoch 30/200\n",
            "1/1 [==============================] - 0s 3ms/step - loss: 1.2710\n",
            "Epoch 31/200\n",
            "1/1 [==============================] - 0s 3ms/step - loss: 1.2344\n",
            "Epoch 32/200\n",
            "1/1 [==============================] - 0s 4ms/step - loss: 1.2009\n",
            "Epoch 33/200\n",
            "1/1 [==============================] - 0s 3ms/step - loss: 1.1697\n",
            "Epoch 34/200\n",
            "1/1 [==============================] - 0s 6ms/step - loss: 1.1406\n",
            "Epoch 35/200\n",
            "1/1 [==============================] - 0s 4ms/step - loss: 1.1132\n",
            "Epoch 36/200\n",
            "1/1 [==============================] - 0s 4ms/step - loss: 1.0871\n",
            "Epoch 37/200\n",
            "1/1 [==============================] - 0s 3ms/step - loss: 1.0623\n",
            "Epoch 38/200\n",
            "1/1 [==============================] - 0s 3ms/step - loss: 1.0386\n",
            "Epoch 39/200\n",
            "1/1 [==============================] - 0s 4ms/step - loss: 1.0157\n",
            "Epoch 40/200\n",
            "1/1 [==============================] - 0s 3ms/step - loss: 0.9936\n",
            "Epoch 41/200\n",
            "1/1 [==============================] - 0s 3ms/step - loss: 0.9723\n",
            "Epoch 42/200\n",
            "1/1 [==============================] - 0s 5ms/step - loss: 0.9515\n",
            "Epoch 43/200\n",
            "1/1 [==============================] - 0s 3ms/step - loss: 0.9314\n",
            "Epoch 44/200\n",
            "1/1 [==============================] - 0s 5ms/step - loss: 0.9118\n",
            "Epoch 45/200\n",
            "1/1 [==============================] - 0s 6ms/step - loss: 0.8927\n",
            "Epoch 46/200\n",
            "1/1 [==============================] - 0s 5ms/step - loss: 0.8741\n",
            "Epoch 47/200\n",
            "1/1 [==============================] - 0s 5ms/step - loss: 0.8559\n",
            "Epoch 48/200\n",
            "1/1 [==============================] - 0s 3ms/step - loss: 0.8382\n",
            "Epoch 49/200\n",
            "1/1 [==============================] - 0s 3ms/step - loss: 0.8208\n",
            "Epoch 50/200\n",
            "1/1 [==============================] - 0s 3ms/step - loss: 0.8038\n",
            "Epoch 51/200\n",
            "1/1 [==============================] - 0s 3ms/step - loss: 0.7872\n",
            "Epoch 52/200\n",
            "1/1 [==============================] - 0s 3ms/step - loss: 0.7710\n",
            "Epoch 53/200\n",
            "1/1 [==============================] - 0s 5ms/step - loss: 0.7551\n",
            "Epoch 54/200\n",
            "1/1 [==============================] - 0s 5ms/step - loss: 0.7396\n",
            "Epoch 55/200\n",
            "1/1 [==============================] - 0s 5ms/step - loss: 0.7243\n",
            "Epoch 56/200\n",
            "1/1 [==============================] - 0s 6ms/step - loss: 0.7094\n",
            "Epoch 57/200\n",
            "1/1 [==============================] - 0s 3ms/step - loss: 0.6948\n",
            "Epoch 58/200\n",
            "1/1 [==============================] - 0s 7ms/step - loss: 0.6805\n",
            "Epoch 59/200\n",
            "1/1 [==============================] - 0s 4ms/step - loss: 0.6666\n",
            "Epoch 60/200\n",
            "1/1 [==============================] - 0s 5ms/step - loss: 0.6529\n",
            "Epoch 61/200\n",
            "1/1 [==============================] - 0s 4ms/step - loss: 0.6394\n",
            "Epoch 62/200\n",
            "1/1 [==============================] - 0s 3ms/step - loss: 0.6263\n",
            "Epoch 63/200\n",
            "1/1 [==============================] - 0s 4ms/step - loss: 0.6134\n",
            "Epoch 64/200\n",
            "1/1 [==============================] - 0s 3ms/step - loss: 0.6008\n",
            "Epoch 65/200\n",
            "1/1 [==============================] - 0s 3ms/step - loss: 0.5885\n",
            "Epoch 66/200\n",
            "1/1 [==============================] - 0s 6ms/step - loss: 0.5764\n",
            "Epoch 67/200\n",
            "1/1 [==============================] - 0s 6ms/step - loss: 0.5645\n",
            "Epoch 68/200\n",
            "1/1 [==============================] - 0s 5ms/step - loss: 0.5529\n",
            "Epoch 69/200\n",
            "1/1 [==============================] - 0s 3ms/step - loss: 0.5416\n",
            "Epoch 70/200\n",
            "1/1 [==============================] - 0s 4ms/step - loss: 0.5305\n",
            "Epoch 71/200\n",
            "1/1 [==============================] - 0s 4ms/step - loss: 0.5196\n",
            "Epoch 72/200\n",
            "1/1 [==============================] - 0s 6ms/step - loss: 0.5089\n",
            "Epoch 73/200\n",
            "1/1 [==============================] - 0s 3ms/step - loss: 0.4984\n",
            "Epoch 74/200\n",
            "1/1 [==============================] - 0s 5ms/step - loss: 0.4882\n",
            "Epoch 75/200\n",
            "1/1 [==============================] - 0s 4ms/step - loss: 0.4782\n",
            "Epoch 76/200\n",
            "1/1 [==============================] - 0s 4ms/step - loss: 0.4684\n",
            "Epoch 77/200\n",
            "1/1 [==============================] - 0s 4ms/step - loss: 0.4587\n",
            "Epoch 78/200\n",
            "1/1 [==============================] - 0s 3ms/step - loss: 0.4493\n",
            "Epoch 79/200\n",
            "1/1 [==============================] - 0s 4ms/step - loss: 0.4401\n",
            "Epoch 80/200\n",
            "1/1 [==============================] - 0s 4ms/step - loss: 0.4310\n",
            "Epoch 81/200\n",
            "1/1 [==============================] - 0s 4ms/step - loss: 0.4222\n",
            "Epoch 82/200\n",
            "1/1 [==============================] - 0s 4ms/step - loss: 0.4135\n",
            "Epoch 83/200\n",
            "1/1 [==============================] - 0s 3ms/step - loss: 0.4050\n",
            "Epoch 84/200\n",
            "1/1 [==============================] - 0s 4ms/step - loss: 0.3967\n",
            "Epoch 85/200\n",
            "1/1 [==============================] - 0s 4ms/step - loss: 0.3886\n",
            "Epoch 86/200\n",
            "1/1 [==============================] - 0s 3ms/step - loss: 0.3806\n",
            "Epoch 87/200\n",
            "1/1 [==============================] - 0s 3ms/step - loss: 0.3728\n",
            "Epoch 88/200\n",
            "1/1 [==============================] - 0s 4ms/step - loss: 0.3651\n",
            "Epoch 89/200\n",
            "1/1 [==============================] - 0s 4ms/step - loss: 0.3576\n",
            "Epoch 90/200\n",
            "1/1 [==============================] - 0s 4ms/step - loss: 0.3503\n",
            "Epoch 91/200\n",
            "1/1 [==============================] - 0s 4ms/step - loss: 0.3431\n",
            "Epoch 92/200\n",
            "1/1 [==============================] - 0s 4ms/step - loss: 0.3360\n",
            "Epoch 93/200\n",
            "1/1 [==============================] - 0s 7ms/step - loss: 0.3291\n",
            "Epoch 94/200\n",
            "1/1 [==============================] - 0s 4ms/step - loss: 0.3224\n",
            "Epoch 95/200\n",
            "1/1 [==============================] - 0s 4ms/step - loss: 0.3157\n",
            "Epoch 96/200\n",
            "1/1 [==============================] - 0s 4ms/step - loss: 0.3092\n",
            "Epoch 97/200\n",
            "1/1 [==============================] - 0s 4ms/step - loss: 0.3029\n",
            "Epoch 98/200\n",
            "1/1 [==============================] - 0s 6ms/step - loss: 0.2967\n",
            "Epoch 99/200\n",
            "1/1 [==============================] - 0s 7ms/step - loss: 0.2906\n",
            "Epoch 100/200\n",
            "1/1 [==============================] - 0s 4ms/step - loss: 0.2846\n",
            "Epoch 101/200\n",
            "1/1 [==============================] - 0s 4ms/step - loss: 0.2788\n",
            "Epoch 102/200\n",
            "1/1 [==============================] - 0s 6ms/step - loss: 0.2730\n",
            "Epoch 103/200\n",
            "1/1 [==============================] - 0s 4ms/step - loss: 0.2674\n",
            "Epoch 104/200\n",
            "1/1 [==============================] - 0s 3ms/step - loss: 0.2619\n",
            "Epoch 105/200\n",
            "1/1 [==============================] - 0s 6ms/step - loss: 0.2566\n",
            "Epoch 106/200\n",
            "1/1 [==============================] - 0s 6ms/step - loss: 0.2513\n",
            "Epoch 107/200\n",
            "1/1 [==============================] - 0s 3ms/step - loss: 0.2461\n",
            "Epoch 108/200\n",
            "1/1 [==============================] - 0s 6ms/step - loss: 0.2411\n",
            "Epoch 109/200\n",
            "1/1 [==============================] - 0s 6ms/step - loss: 0.2361\n",
            "Epoch 110/200\n",
            "1/1 [==============================] - 0s 3ms/step - loss: 0.2313\n",
            "Epoch 111/200\n",
            "1/1 [==============================] - 0s 6ms/step - loss: 0.2265\n",
            "Epoch 112/200\n",
            "1/1 [==============================] - 0s 3ms/step - loss: 0.2219\n",
            "Epoch 113/200\n",
            "1/1 [==============================] - 0s 3ms/step - loss: 0.2173\n",
            "Epoch 114/200\n",
            "1/1 [==============================] - 0s 5ms/step - loss: 0.2128\n",
            "Epoch 115/200\n",
            "1/1 [==============================] - 0s 5ms/step - loss: 0.2085\n",
            "Epoch 116/200\n",
            "1/1 [==============================] - 0s 4ms/step - loss: 0.2042\n",
            "Epoch 117/200\n",
            "1/1 [==============================] - 0s 3ms/step - loss: 0.2000\n",
            "Epoch 118/200\n",
            "1/1 [==============================] - 0s 3ms/step - loss: 0.1959\n",
            "Epoch 119/200\n",
            "1/1 [==============================] - 0s 6ms/step - loss: 0.1919\n",
            "Epoch 120/200\n",
            "1/1 [==============================] - 0s 4ms/step - loss: 0.1879\n",
            "Epoch 121/200\n",
            "1/1 [==============================] - 0s 6ms/step - loss: 0.1841\n",
            "Epoch 122/200\n",
            "1/1 [==============================] - 0s 6ms/step - loss: 0.1803\n",
            "Epoch 123/200\n",
            "1/1 [==============================] - 0s 3ms/step - loss: 0.1766\n",
            "Epoch 124/200\n",
            "1/1 [==============================] - 0s 4ms/step - loss: 0.1730\n",
            "Epoch 125/200\n",
            "1/1 [==============================] - 0s 7ms/step - loss: 0.1694\n",
            "Epoch 126/200\n",
            "1/1 [==============================] - 0s 6ms/step - loss: 0.1659\n",
            "Epoch 127/200\n",
            "1/1 [==============================] - 0s 5ms/step - loss: 0.1625\n",
            "Epoch 128/200\n",
            "1/1 [==============================] - 0s 3ms/step - loss: 0.1592\n",
            "Epoch 129/200\n",
            "1/1 [==============================] - 0s 6ms/step - loss: 0.1559\n",
            "Epoch 130/200\n",
            "1/1 [==============================] - 0s 3ms/step - loss: 0.1527\n",
            "Epoch 131/200\n",
            "1/1 [==============================] - 0s 5ms/step - loss: 0.1496\n",
            "Epoch 132/200\n",
            "1/1 [==============================] - 0s 5ms/step - loss: 0.1465\n",
            "Epoch 133/200\n",
            "1/1 [==============================] - 0s 5ms/step - loss: 0.1435\n",
            "Epoch 134/200\n",
            "1/1 [==============================] - 0s 5ms/step - loss: 0.1405\n",
            "Epoch 135/200\n",
            "1/1 [==============================] - 0s 3ms/step - loss: 0.1376\n",
            "Epoch 136/200\n",
            "1/1 [==============================] - 0s 6ms/step - loss: 0.1348\n",
            "Epoch 137/200\n",
            "1/1 [==============================] - 0s 3ms/step - loss: 0.1321\n",
            "Epoch 138/200\n",
            "1/1 [==============================] - 0s 5ms/step - loss: 0.1293\n",
            "Epoch 139/200\n",
            "1/1 [==============================] - 0s 7ms/step - loss: 0.1267\n",
            "Epoch 140/200\n",
            "1/1 [==============================] - 0s 3ms/step - loss: 0.1241\n",
            "Epoch 141/200\n",
            "1/1 [==============================] - 0s 3ms/step - loss: 0.1215\n",
            "Epoch 142/200\n",
            "1/1 [==============================] - 0s 5ms/step - loss: 0.1190\n",
            "Epoch 143/200\n",
            "1/1 [==============================] - 0s 3ms/step - loss: 0.1166\n",
            "Epoch 144/200\n",
            "1/1 [==============================] - 0s 6ms/step - loss: 0.1142\n",
            "Epoch 145/200\n",
            "1/1 [==============================] - 0s 3ms/step - loss: 0.1119\n",
            "Epoch 146/200\n",
            "1/1 [==============================] - 0s 6ms/step - loss: 0.1096\n",
            "Epoch 147/200\n",
            "1/1 [==============================] - 0s 3ms/step - loss: 0.1073\n",
            "Epoch 148/200\n",
            "1/1 [==============================] - 0s 4ms/step - loss: 0.1051\n",
            "Epoch 149/200\n",
            "1/1 [==============================] - 0s 5ms/step - loss: 0.1029\n",
            "Epoch 150/200\n",
            "1/1 [==============================] - 0s 3ms/step - loss: 0.1008\n",
            "Epoch 151/200\n",
            "1/1 [==============================] - 0s 4ms/step - loss: 0.0988\n",
            "Epoch 152/200\n",
            "1/1 [==============================] - 0s 6ms/step - loss: 0.0967\n",
            "Epoch 153/200\n",
            "1/1 [==============================] - 0s 3ms/step - loss: 0.0947\n",
            "Epoch 154/200\n",
            "1/1 [==============================] - 0s 4ms/step - loss: 0.0928\n",
            "Epoch 155/200\n",
            "1/1 [==============================] - 0s 7ms/step - loss: 0.0909\n",
            "Epoch 156/200\n",
            "1/1 [==============================] - 0s 5ms/step - loss: 0.0890\n",
            "Epoch 157/200\n",
            "1/1 [==============================] - 0s 8ms/step - loss: 0.0872\n",
            "Epoch 158/200\n",
            "1/1 [==============================] - 0s 8ms/step - loss: 0.0854\n",
            "Epoch 159/200\n",
            "1/1 [==============================] - 0s 4ms/step - loss: 0.0836\n",
            "Epoch 160/200\n",
            "1/1 [==============================] - 0s 4ms/step - loss: 0.0819\n",
            "Epoch 161/200\n",
            "1/1 [==============================] - 0s 4ms/step - loss: 0.0802\n",
            "Epoch 162/200\n",
            "1/1 [==============================] - 0s 3ms/step - loss: 0.0786\n",
            "Epoch 163/200\n",
            "1/1 [==============================] - 0s 5ms/step - loss: 0.0770\n",
            "Epoch 164/200\n",
            "1/1 [==============================] - 0s 3ms/step - loss: 0.0754\n",
            "Epoch 165/200\n",
            "1/1 [==============================] - 0s 3ms/step - loss: 0.0739\n",
            "Epoch 166/200\n",
            "1/1 [==============================] - 0s 3ms/step - loss: 0.0723\n",
            "Epoch 167/200\n",
            "1/1 [==============================] - 0s 4ms/step - loss: 0.0708\n",
            "Epoch 168/200\n",
            "1/1 [==============================] - 0s 8ms/step - loss: 0.0694\n",
            "Epoch 169/200\n",
            "1/1 [==============================] - 0s 3ms/step - loss: 0.0680\n",
            "Epoch 170/200\n",
            "1/1 [==============================] - 0s 3ms/step - loss: 0.0666\n",
            "Epoch 171/200\n",
            "1/1 [==============================] - 0s 3ms/step - loss: 0.0652\n",
            "Epoch 172/200\n",
            "1/1 [==============================] - 0s 3ms/step - loss: 0.0639\n",
            "Epoch 173/200\n",
            "1/1 [==============================] - 0s 6ms/step - loss: 0.0626\n",
            "Epoch 174/200\n",
            "1/1 [==============================] - 0s 3ms/step - loss: 0.0613\n",
            "Epoch 175/200\n",
            "1/1 [==============================] - 0s 3ms/step - loss: 0.0600\n",
            "Epoch 176/200\n",
            "1/1 [==============================] - 0s 3ms/step - loss: 0.0588\n",
            "Epoch 177/200\n",
            "1/1 [==============================] - 0s 3ms/step - loss: 0.0576\n",
            "Epoch 178/200\n",
            "1/1 [==============================] - 0s 3ms/step - loss: 0.0564\n",
            "Epoch 179/200\n",
            "1/1 [==============================] - 0s 3ms/step - loss: 0.0552\n",
            "Epoch 180/200\n",
            "1/1 [==============================] - 0s 3ms/step - loss: 0.0541\n",
            "Epoch 181/200\n",
            "1/1 [==============================] - 0s 6ms/step - loss: 0.0530\n",
            "Epoch 182/200\n",
            "1/1 [==============================] - 0s 3ms/step - loss: 0.0519\n",
            "Epoch 183/200\n",
            "1/1 [==============================] - 0s 5ms/step - loss: 0.0508\n",
            "Epoch 184/200\n",
            "1/1 [==============================] - 0s 3ms/step - loss: 0.0498\n",
            "Epoch 185/200\n",
            "1/1 [==============================] - 0s 3ms/step - loss: 0.0488\n",
            "Epoch 186/200\n",
            "1/1 [==============================] - 0s 4ms/step - loss: 0.0478\n",
            "Epoch 187/200\n",
            "1/1 [==============================] - 0s 3ms/step - loss: 0.0468\n",
            "Epoch 188/200\n",
            "1/1 [==============================] - 0s 3ms/step - loss: 0.0458\n",
            "Epoch 189/200\n",
            "1/1 [==============================] - 0s 3ms/step - loss: 0.0449\n",
            "Epoch 190/200\n",
            "1/1 [==============================] - 0s 3ms/step - loss: 0.0440\n",
            "Epoch 191/200\n",
            "1/1 [==============================] - 0s 5ms/step - loss: 0.0431\n",
            "Epoch 192/200\n",
            "1/1 [==============================] - 0s 3ms/step - loss: 0.0422\n",
            "Epoch 193/200\n",
            "1/1 [==============================] - 0s 3ms/step - loss: 0.0413\n",
            "Epoch 194/200\n",
            "1/1 [==============================] - 0s 3ms/step - loss: 0.0405\n",
            "Epoch 195/200\n",
            "1/1 [==============================] - 0s 3ms/step - loss: 0.0396\n",
            "Epoch 196/200\n",
            "1/1 [==============================] - 0s 4ms/step - loss: 0.0388\n",
            "Epoch 197/200\n",
            "1/1 [==============================] - 0s 4ms/step - loss: 0.0380\n",
            "Epoch 198/200\n",
            "1/1 [==============================] - 0s 5ms/step - loss: 0.0372\n",
            "Epoch 199/200\n",
            "1/1 [==============================] - 0s 3ms/step - loss: 0.0365\n",
            "Epoch 200/200\n",
            "1/1 [==============================] - 0s 5ms/step - loss: 0.0357\n"
          ],
          "name": "stdout"
        },
        {
          "output_type": "execute_result",
          "data": {
            "text/plain": [
              "<tensorflow.python.keras.callbacks.History at 0x7f5fc074d630>"
            ]
          },
          "metadata": {
            "tags": []
          },
          "execution_count": 2
        }
      ]
    },
    {
      "cell_type": "code",
      "metadata": {
        "colab": {
          "base_uri": "https://localhost:8080/"
        },
        "id": "Re8HcvK-IpKe",
        "outputId": "0a3dde95-f2c2-4de5-a372-a01cb1b1eef5"
      },
      "source": [
        "model.summary()"
      ],
      "execution_count": 3,
      "outputs": [
        {
          "output_type": "stream",
          "text": [
            "Model: \"sequential\"\n",
            "_________________________________________________________________\n",
            "Layer (type)                 Output Shape              Param #   \n",
            "=================================================================\n",
            "dense (Dense)                (None, 1)                 2         \n",
            "=================================================================\n",
            "Total params: 2\n",
            "Trainable params: 2\n",
            "Non-trainable params: 0\n",
            "_________________________________________________________________\n"
          ],
          "name": "stdout"
        }
      ]
    },
    {
      "cell_type": "code",
      "metadata": {
        "colab": {
          "base_uri": "https://localhost:8080/"
        },
        "id": "ser05ifrIuDn",
        "outputId": "45034646-1322-42ec-9049-fe2e695154a0"
      },
      "source": [
        "model.predict([10])"
      ],
      "execution_count": 4,
      "outputs": [
        {
          "output_type": "execute_result",
          "data": {
            "text/plain": [
              "array([[18.448599]], dtype=float32)"
            ]
          },
          "metadata": {
            "tags": []
          },
          "execution_count": 4
        }
      ]
    },
    {
      "cell_type": "markdown",
      "metadata": {
        "id": "I0Dyi_vLI6RD"
      },
      "source": [
        "### Generate a SavedModel"
      ]
    },
    {
      "cell_type": "code",
      "metadata": {
        "colab": {
          "base_uri": "https://localhost:8080/"
        },
        "id": "6GLQZ2TmIxeT",
        "outputId": "b0c57bb5-9fd9-4ec0-b2be-0a9689b53f16"
      },
      "source": [
        "export_dir = 'tmp/saved_model'\r\n",
        "tf.saved_model.save(model, export_dir)"
      ],
      "execution_count": 5,
      "outputs": [
        {
          "output_type": "stream",
          "text": [
            "INFO:tensorflow:Assets written to: tmp/saved_model/assets\n"
          ],
          "name": "stdout"
        }
      ]
    },
    {
      "cell_type": "markdown",
      "metadata": {
        "id": "0ofmiQ8YJO3S"
      },
      "source": [
        "### convert the SavedModel to TFLite"
      ]
    },
    {
      "cell_type": "code",
      "metadata": {
        "id": "VjisE_j5JLXz"
      },
      "source": [
        "converter = tf.lite.TFLiteConverter.from_saved_model(export_dir)\r\n",
        "tf_lite_model = converter.convert()"
      ],
      "execution_count": 6,
      "outputs": []
    },
    {
      "cell_type": "code",
      "metadata": {
        "colab": {
          "base_uri": "https://localhost:8080/"
        },
        "id": "xdVv9dBoJ0No",
        "outputId": "7849724f-02d8-4a05-b234-ee70cc7f3e16"
      },
      "source": [
        "tf_lite_model_file = pathlib.Path('/tmp/model.tflite')\r\n",
        "tf_lite_model_file.write_bytes(tf_lite_model)"
      ],
      "execution_count": 7,
      "outputs": [
        {
          "output_type": "execute_result",
          "data": {
            "text/plain": [
              "896"
            ]
          },
          "metadata": {
            "tags": []
          },
          "execution_count": 7
        }
      ]
    },
    {
      "cell_type": "markdown",
      "metadata": {
        "id": "Ld6knhljKNvz"
      },
      "source": [
        "### **Initialize the Interpreter to try it out**"
      ]
    },
    {
      "cell_type": "code",
      "metadata": {
        "id": "mzR5M7mnKEZm"
      },
      "source": [
        "# Load TFLite model and allocate tensors.\r\n",
        "interpreter = tf.lite.Interpreter(model_content=tf_lite_model)\r\n",
        "interpreter.allocate_tensors()\r\n",
        "\r\n",
        "# Get input and Output tensors.\r\n",
        "input_details = interpreter.get_input_details()\r\n",
        "output_details = interpreter.get_output_details()"
      ],
      "execution_count": 8,
      "outputs": []
    },
    {
      "cell_type": "code",
      "metadata": {
        "colab": {
          "base_uri": "https://localhost:8080/"
        },
        "id": "WukohTu2dCKX",
        "outputId": "f77cdd3a-4cdc-4cf1-e7f6-61ff2a6458c9"
      },
      "source": [
        "input_details, output_details"
      ],
      "execution_count": 12,
      "outputs": [
        {
          "output_type": "execute_result",
          "data": {
            "text/plain": [
              "([{'dtype': numpy.float32,\n",
              "   'index': 0,\n",
              "   'name': 'serving_default_dense_input:0',\n",
              "   'quantization': (0.0, 0),\n",
              "   'quantization_parameters': {'quantized_dimension': 0,\n",
              "    'scales': array([], dtype=float32),\n",
              "    'zero_points': array([], dtype=int32)},\n",
              "   'shape': array([1, 1], dtype=int32),\n",
              "   'shape_signature': array([-1,  1], dtype=int32),\n",
              "   'sparsity_parameters': {}}],\n",
              " [{'dtype': numpy.float32,\n",
              "   'index': 3,\n",
              "   'name': 'StatefulPartitionedCall:0',\n",
              "   'quantization': (0.0, 0),\n",
              "   'quantization_parameters': {'quantized_dimension': 0,\n",
              "    'scales': array([], dtype=float32),\n",
              "    'zero_points': array([], dtype=int32)},\n",
              "   'shape': array([1, 1], dtype=int32),\n",
              "   'shape_signature': array([-1,  1], dtype=int32),\n",
              "   'sparsity_parameters': {}}])"
            ]
          },
          "metadata": {
            "tags": []
          },
          "execution_count": 12
        }
      ]
    },
    {
      "cell_type": "code",
      "metadata": {
        "id": "ExSqbyyIe2P4"
      },
      "source": [
        "#Test the tensorflow Lite model on random input datat.\r\n",
        "input_shape = input_details[0]['shape']\r\n",
        "inputs, outputs = [], []\r\n",
        "for _  in range(100):\r\n",
        "  input_data = np.array(np.random.random_sample(input_shape), dtype=np.float32)\r\n",
        "  interpreter.set_tensor(input_details[0]['index'], input_data)\r\n",
        "\r\n",
        "  interpreter.invoke()\r\n",
        "  tf_lite_results = interpreter.get_tensor(output_details[0]['index'])\r\n",
        "\r\n",
        "  #Test the TensorFlow model in random input data\r\n",
        "  tf_results = model(tf.constant(input_data))\r\n",
        "  output_data = np.array(tf_results)\r\n",
        "\r\n",
        "  inputs.append(input_data[0][0])\r\n",
        "  outputs.append(output_data[0][0])"
      ],
      "execution_count": 11,
      "outputs": []
    },
    {
      "cell_type": "markdown",
      "metadata": {
        "id": "0C34tzy0e2ZW"
      },
      "source": [
        "### Visualize the Model"
      ]
    },
    {
      "cell_type": "code",
      "metadata": {
        "colab": {
          "base_uri": "https://localhost:8080/",
          "height": 265
        },
        "id": "3K6125jIcjyT",
        "outputId": "f2e56fdd-d67c-466e-a41b-8881b3f0e4ad"
      },
      "source": [
        "plt.plot(inputs, outputs, 'r')\r\n",
        "plt.show()"
      ],
      "execution_count": 13,
      "outputs": [
        {
          "output_type": "display_data",
          "data": {
            "image/png": "[encoded data removed]",
            "text/plain": [
              "<Figure size 432x288 with 1 Axes>"
            ]
          },
          "metadata": {
            "tags": [],
            "needs_background": "light"
          }
        }
      ]
    },
    {
      "cell_type": "markdown",
      "metadata": {
        "id": "vGqM044BfJH4"
      },
      "source": [
        "### **Download the TFLite model file**"
      ]
    },
    {
      "cell_type": "code",
      "metadata": {
        "colab": {
          "base_uri": "https://localhost:8080/",
          "height": 17
        },
        "id": "JZnnUbQQfGVK",
        "outputId": "db92ea88-e895-4bdd-b8b4-a184df3cd70a"
      },
      "source": [
        "files.download(tf_lite_model_file)"
      ],
      "execution_count": 14,
      "outputs": [
        {
          "output_type": "display_data",
          "data": {
            "application/javascript": [
              "\n",
              "    async function download(id, filename, size) {\n",
              "      if (!google.colab.kernel.accessAllowed) {\n",
              "        return;\n",
              "      }\n",
              "      const div = document.createElement('div');\n",
              "      const label = document.createElement('label');\n",
              "      label.textContent = `Downloading \"${filename}\": `;\n",
              "      div.appendChild(label);\n",
              "      const progress = document.createElement('progress');\n",
              "      progress.max = size;\n",
              "      div.appendChild(progress);\n",
              "      document.body.appendChild(div);\n",
              "\n",
              "      const buffers = [];\n",
              "      let downloaded = 0;\n",
              "\n",
              "      const channel = await google.colab.kernel.comms.open(id);\n",
              "      // Send a message to notify the kernel that we're ready.\n",
              "      channel.send({})\n",
              "\n",
              "      for await (const message of channel.messages) {\n",
              "        // Send a message to notify the kernel that we're ready.\n",
              "        channel.send({})\n",
              "        if (message.buffers) {\n",
              "          for (const buffer of message.buffers) {\n",
              "            buffers.push(buffer);\n",
              "            downloaded += buffer.byteLength;\n",
              "            progress.value = downloaded;\n",
              "          }\n",
              "        }\n",
              "      }\n",
              "      const blob = new Blob(buffers, {type: 'application/binary'});\n",
              "      const a = document.createElement('a');\n",
              "      a.href = window.URL.createObjectURL(blob);\n",
              "      a.download = filename;\n",
              "      div.appendChild(a);\n",
              "      a.click();\n",
              "      div.remove();\n",
              "    }\n",
              "  "
            ],
            "text/plain": [
              "<IPython.core.display.Javascript object>"
            ]
          },
          "metadata": {
            "tags": []
          }
        },
        {
          "output_type": "display_data",
          "data": {
            "application/javascript": [
              "download(\"download_ce8c71dc-758a-48c5-a3a9-2a56417b4094\", \"model.tflite\", 896)"
            ],
            "text/plain": [
              "<IPython.core.display.Javascript object>"
            ]
          },
          "metadata": {
            "tags": []
          }
        }
      ]
    },
    {
      "cell_type": "code",
      "metadata": {
        "id": "ROJ7BVjwfSAN"
      },
      "source": [
        ""
      ],
      "execution_count": null,
      "outputs": []
    }
  ]
}